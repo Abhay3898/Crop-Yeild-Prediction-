{
 "cells": [
  {
   "cell_type": "code",
   "execution_count": 1,
   "id": "19dc3d01-1414-4ec0-964f-45ef7d559f6c",
   "metadata": {},
   "outputs": [
    {
     "name": "stderr",
     "output_type": "stream",
     "text": [
      "25/01/17 23:55:27 WARN Utils: Your hostname, abhay-ki-bandi resolves to a loopback address: 127.0.1.1; using 192.168.163.114 instead (on interface wlp0s20f3)\n",
      "25/01/17 23:55:27 WARN Utils: Set SPARK_LOCAL_IP if you need to bind to another address\n",
      "Setting default log level to \"WARN\".\n",
      "To adjust logging level use sc.setLogLevel(newLevel). For SparkR, use setLogLevel(newLevel).\n",
      "25/01/17 23:55:27 WARN NativeCodeLoader: Unable to load native-hadoop library for your platform... using builtin-java classes where applicable\n"
     ]
    }
   ],
   "source": [
    "from pyspark.sql import SparkSession\n",
    "\n",
    "spark = SparkSession.builder.appName(\"MLTraining\").getOrCreate()\n"
   ]
  },
  {
   "cell_type": "code",
   "execution_count": 2,
   "id": "2f2c02f5-e779-4432-89dd-d4623f3d4105",
   "metadata": {},
   "outputs": [
    {
     "name": "stdout",
     "output_type": "stream",
     "text": [
      "+---------+---------+-------------+----------------+-------+--------------+-----------+------------+---------------+---------+\n",
      "|   Region|Crop Type|Rainfall (mm)|Temperature (°C)|Soil pH|Nitrogen (ppm)|Sowing Date|Harvest Date|Yield (tons/ha)|Soil Type|\n",
      "+---------+---------+-------------+----------------+-------+--------------+-----------+------------+---------------+---------+\n",
      "|Rajasthan|     Rice|        442.3|            30.4|    5.9|          55.7| 2023-03-11|  2023-10-17|            2.5|     Clay|\n",
      "|   Punjab|     Rice|        238.9|            15.9|    5.5|          25.9| 2023-04-12|  2023-09-26|            2.3|    Sandy|\n",
      "|Rajasthan|     Rice|        352.3|            34.9|    7.0|          40.5| 2023-03-12|  2023-09-25|            2.5|     Clay|\n",
      "|Rajasthan|    Wheat|        348.1|            24.4|    7.1|          29.3| 2023-03-23|  2023-10-23|            2.6|    Loamy|\n",
      "|   Punjab|     Rice|        617.8|            20.6|    6.2|          43.3| 2023-02-13|  2023-07-01|            2.3|    Sandy|\n",
      "|   Punjab|     Rice|        627.4|            32.7|    6.4|          54.5| 2023-03-19|  2023-11-20|            5.0|     Clay|\n",
      "|Rajasthan|    Wheat|        288.9|            30.0|    6.8|          55.2| 2023-02-13|  2023-07-28|            4.5|     Clay|\n",
      "|  Haryana|     Rice|        798.6|            34.1|    5.6|          29.5| 2023-02-24|  2023-11-25|            1.7|    Sandy|\n",
      "|Rajasthan|    Wheat|        360.1|            21.6|    7.4|          56.3| 2023-02-13|  2023-07-18|            2.6|    Loamy|\n",
      "|Rajasthan|    Maize|        786.0|            26.1|    7.3|          43.7| 2023-03-04|  2023-12-18|            1.6|    Loamy|\n",
      "|Rajasthan|     Rice|        446.6|            26.4|    6.0|          34.0| 2023-03-02|  2023-09-04|            3.5|    Loamy|\n",
      "|Rajasthan|    Maize|        219.8|            34.6|    5.5|          48.3| 2023-06-27|  2023-10-14|            3.4|     Clay|\n",
      "|   Punjab|    Wheat|        407.0|            16.5|    7.4|          39.3| 2023-06-06|  2023-10-16|            4.8|     Clay|\n",
      "|Rajasthan|     Rice|        580.6|            21.1|    6.5|          35.1| 2023-05-21|  2023-11-11|            2.7|     Clay|\n",
      "|  Haryana|    Wheat|        608.4|            18.8|    6.6|          48.2| 2023-04-27|  2023-08-06|            4.8|     Clay|\n",
      "|   Punjab|    Maize|        518.6|            20.4|    6.9|          29.9| 2023-03-12|  2023-09-13|            5.4|    Loamy|\n",
      "|  Haryana|    Wheat|        468.7|            24.7|    6.7|          33.2| 2023-06-10|  2023-12-09|            1.9|    Sandy|\n",
      "|  Haryana|     Rice|        531.7|            22.5|    7.4|          37.4| 2023-04-16|  2023-11-07|            4.7|     Clay|\n",
      "|  Haryana|     Rice|        555.6|            22.9|    7.4|          30.1| 2023-05-12|  2023-10-16|            3.9|     Clay|\n",
      "|  Haryana|    Maize|        248.5|            31.9|    7.2|          36.2| 2023-05-17|  2023-12-04|            3.4|    Loamy|\n",
      "+---------+---------+-------------+----------------+-------+--------------+-----------+------------+---------------+---------+\n",
      "only showing top 20 rows\n",
      "\n"
     ]
    }
   ],
   "source": [
    "data = spark.read.csv(\"./synthetic_crop_yeildData.csv\", header=True, inferSchema=True)\n",
    "data.show()\n"
   ]
  },
  {
   "cell_type": "code",
   "execution_count": 3,
   "id": "09a4c4ea-f2b1-4d25-93dd-877be58d0020",
   "metadata": {},
   "outputs": [],
   "source": [
    "from pyspark.ml.feature import StringIndexer\n",
    "\n",
    "\n",
    "state_indexer = StringIndexer(inputCol=\"Region\", outputCol=\"state_index\")\n",
    "data = state_indexer.fit(data).transform(data)\n",
    "\n",
    "crop_indexer = StringIndexer(inputCol=\"Crop Type\", outputCol=\"crop_index\")\n",
    "data = crop_indexer.fit(data).transform(data)\n",
    "\n",
    "soil_indexer = StringIndexer(inputCol=\"Soil Type\", outputCol=\"soil_index\")\n",
    "data = soil_indexer.fit(data).transform(data)\n"
   ]
  },
  {
   "cell_type": "code",
   "execution_count": 4,
   "id": "ee1ae7b7-095a-44c0-8129-ec0078596380",
   "metadata": {},
   "outputs": [],
   "source": [
    "from pyspark.ml.feature import VectorAssembler\n",
    "\n",
    "feature_columns = [\"state_index\", \"crop_index\", \"Rainfall (mm)\", \"Temperature (°C)\", \"Soil pH\", \"Nitrogen (ppm)\"]\n",
    "\n",
    "assembler = VectorAssembler(inputCols=feature_columns, outputCol=\"features\")\n",
    "data = assembler.transform(data)\n"
   ]
  },
  {
   "cell_type": "code",
   "execution_count": 5,
   "id": "1cd09b3c-2ffc-473c-bc5d-ebed33bf4cbf",
   "metadata": {},
   "outputs": [],
   "source": [
    "\n",
    "train_data, test_data = data.randomSplit([0.8, 0.2], seed=42)\n"
   ]
  },
  {
   "cell_type": "code",
   "execution_count": 6,
   "id": "a5ee10dc-f8f2-40cf-beec-10e0f741c5f6",
   "metadata": {},
   "outputs": [
    {
     "name": "stdout",
     "output_type": "stream",
     "text": [
      "root\n",
      " |-- Region: string (nullable = true)\n",
      " |-- Crop Type: string (nullable = true)\n",
      " |-- Rainfall (mm): double (nullable = true)\n",
      " |-- Temperature (°C): double (nullable = true)\n",
      " |-- Soil pH: double (nullable = true)\n",
      " |-- Nitrogen (ppm): double (nullable = true)\n",
      " |-- Sowing Date: date (nullable = true)\n",
      " |-- Harvest Date: date (nullable = true)\n",
      " |-- Yield (tons/ha): double (nullable = true)\n",
      " |-- Soil Type: string (nullable = true)\n",
      " |-- state_index: double (nullable = false)\n",
      " |-- crop_index: double (nullable = false)\n",
      " |-- soil_index: double (nullable = false)\n",
      " |-- features: vector (nullable = true)\n",
      "\n"
     ]
    }
   ],
   "source": [
    "data.printSchema()"
   ]
  },
  {
   "cell_type": "code",
   "execution_count": 7,
   "id": "c89194bb-766a-4ced-b4d7-f5fb7d9c2b93",
   "metadata": {},
   "outputs": [
    {
     "name": "stderr",
     "output_type": "stream",
     "text": [
      "25/01/17 23:56:27 WARN Instrumentation: [a246f6d7] regParam is zero, which might cause numerical instability and overfitting.\n",
      "25/01/17 23:56:28 WARN InstanceBuilder: Failed to load implementation from:dev.ludovic.netlib.blas.JNIBLAS\n",
      "25/01/17 23:56:28 WARN InstanceBuilder: Failed to load implementation from:dev.ludovic.netlib.lapack.JNILAPACK\n"
     ]
    },
    {
     "name": "stdout",
     "output_type": "stream",
     "text": [
      "+---------+---------+-------------+----------------+-------+--------------+-----------+------------+---------------+---------+-----------+----------+----------+--------------------+------------------+\n",
      "|   Region|Crop Type|Rainfall (mm)|Temperature (°C)|Soil pH|Nitrogen (ppm)|Sowing Date|Harvest Date|Yield (tons/ha)|Soil Type|state_index|crop_index|soil_index|            features|        prediction|\n",
      "+---------+---------+-------------+----------------+-------+--------------+-----------+------------+---------------+---------+-----------+----------+----------+--------------------+------------------+\n",
      "|  Haryana|    Maize|        370.4|            23.0|    7.2|          36.7| 2023-03-28|  2023-07-04|            2.8|     Clay|        0.0|       2.0|       1.0|[0.0,2.0,370.4,23...|2.8596470807634033|\n",
      "|  Haryana|    Maize|        601.4|            17.8|    6.3|          44.1| 2023-02-19|  2023-12-25|            3.7|     Clay|        0.0|       2.0|       1.0|[0.0,2.0,601.4,17...|3.3389399702092746|\n",
      "|  Haryana|    Maize|        681.9|            19.2|    6.9|          50.7| 2023-05-03|  2023-10-13|            4.1|    Loamy|        0.0|       2.0|       0.0|[0.0,2.0,681.9,19...| 3.241620580654847|\n",
      "|  Haryana|     Rice|        383.2|            23.7|    6.2|          43.2| 2023-04-24|  2023-09-26|            2.8|    Loamy|        0.0|       0.0|       0.0|[0.0,0.0,383.2,23...|3.7216874112069394|\n",
      "|  Haryana|     Rice|        617.5|            29.2|    5.9|          41.1| 2023-04-19|  2023-12-09|            1.9|    Loamy|        0.0|       0.0|       0.0|[0.0,0.0,617.5,29...|3.8172415947611906|\n",
      "|  Haryana|     Rice|        798.6|            34.1|    5.6|          29.5| 2023-02-24|  2023-11-25|            1.7|    Sandy|        0.0|       0.0|       2.0|[0.0,0.0,798.6,34...| 3.835668767349698|\n",
      "|  Haryana|    Wheat|        505.3|            33.7|    7.4|          53.2| 2023-04-06|  2023-10-23|            5.2|    Sandy|        0.0|       1.0|       2.0|[0.0,1.0,505.3,33...|3.0924284270150615|\n",
      "|  Haryana|    Wheat|        796.7|            18.7|    6.5|          55.1| 2023-04-04|  2023-10-18|            4.3|    Loamy|        0.0|       1.0|       0.0|[0.0,1.0,796.7,18...|3.7210798095769757|\n",
      "|   Punjab|     Rice|        350.3|            25.3|    7.5|          22.5| 2023-01-20|  2023-07-18|            4.5|    Loamy|        1.0|       0.0|       0.0|[1.0,0.0,350.3,25...| 3.301324053275173|\n",
      "|   Punjab|     Rice|        442.7|            24.1|    7.0|          30.4| 2023-03-19|  2023-07-08|            2.4|    Loamy|        1.0|       0.0|       0.0|[1.0,0.0,442.7,24...| 3.547104144796745|\n",
      "|   Punjab|     Rice|        510.7|            16.4|    6.2|          47.8| 2023-03-20|  2023-07-01|            4.9|     Clay|        1.0|       0.0|       1.0|[1.0,0.0,510.7,16...|  4.02152594702219|\n",
      "|   Punjab|     Rice|        617.8|            20.6|    6.2|          43.3| 2023-02-13|  2023-07-01|            2.3|    Sandy|        1.0|       0.0|       2.0|[1.0,0.0,617.8,20...| 3.980410332412954|\n",
      "|   Punjab|     Rice|        646.5|            23.8|    5.9|          59.4| 2023-01-27|  2023-12-10|            1.8|    Loamy|        1.0|       0.0|       0.0|[1.0,0.0,646.5,23...|  4.12475771134214|\n",
      "|   Punjab|     Rice|        779.3|            20.0|    7.0|          24.3| 2023-01-23|  2023-08-09|            4.3|     Clay|        1.0|       0.0|       1.0|[1.0,0.0,779.3,20...|3.7406590096487604|\n",
      "|   Punjab|    Wheat|        407.0|            16.5|    7.4|          39.3| 2023-06-06|  2023-10-16|            4.8|     Clay|        1.0|       1.0|       1.0|[1.0,1.0,407.0,16...| 3.318447395430888|\n",
      "|Rajasthan|    Maize|        210.8|            23.6|    5.7|          26.6| 2023-02-14|  2023-07-22|            2.1|     Clay|        2.0|       2.0|       1.0|[2.0,2.0,210.8,23...|3.2847087250693523|\n",
      "|Rajasthan|     Rice|        290.4|            32.0|    7.1|          39.1| 2023-03-27|  2023-10-22|            4.0|     Clay|        2.0|       0.0|       1.0|[2.0,0.0,290.4,32...| 3.468373445363582|\n",
      "+---------+---------+-------------+----------------+-------+--------------+-----------+------------+---------------+---------+-----------+----------+----------+--------------------+------------------+\n",
      "\n"
     ]
    }
   ],
   "source": [
    "from pyspark.ml.regression import LinearRegression\n",
    "\n",
    "lr = LinearRegression(featuresCol=\"features\", labelCol=\"Yield (tons/ha)\")\n",
    "\n",
    "model = lr.fit(train_data)\n",
    "\n",
    "predictions = model.transform(test_data)\n",
    "predictions.show()\n"
   ]
  },
  {
   "cell_type": "code",
   "execution_count": 8,
   "id": "62f99a02-f369-49ad-927d-c7309f85bb13",
   "metadata": {},
   "outputs": [
    {
     "name": "stdout",
     "output_type": "stream",
     "text": [
      "Root Mean Squared Error (RMSE) on test data: 1.3434117212558045\n"
     ]
    }
   ],
   "source": [
    "from pyspark.ml.evaluation import RegressionEvaluator\n",
    "\n",
    "evaluator = RegressionEvaluator(labelCol=\"Yield (tons/ha)\", predictionCol=\"prediction\", metricName=\"rmse\")\n",
    "\n",
    "rmse = evaluator.evaluate(predictions)\n",
    "print(f\"Root Mean Squared Error (RMSE) on test data: {rmse}\")\n"
   ]
  },
  {
   "cell_type": "code",
   "execution_count": null,
   "id": "fecd1191-b7be-4d6a-b6f5-a83d6d2b5a47",
   "metadata": {},
   "outputs": [],
   "source": []
  }
 ],
 "metadata": {
  "kernelspec": {
   "display_name": "Python 3 (ipykernel)",
   "language": "python",
   "name": "python3"
  },
  "language_info": {
   "codemirror_mode": {
    "name": "ipython",
    "version": 3
   },
   "file_extension": ".py",
   "mimetype": "text/x-python",
   "name": "python",
   "nbconvert_exporter": "python",
   "pygments_lexer": "ipython3",
   "version": "3.10.12"
  }
 },
 "nbformat": 4,
 "nbformat_minor": 5
}
